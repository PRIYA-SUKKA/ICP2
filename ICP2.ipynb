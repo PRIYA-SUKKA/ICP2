{
 "cells": [
  {
   "cell_type": "code",
   "execution_count": 1,
   "id": "8771fa4c",
   "metadata": {},
   "outputs": [
    {
     "name": "stdout",
     "output_type": "stream",
     "text": [
      "Enter the first name: Priya Bhandhavi\n",
      "Enter the last name: Sukka\n",
      "Full name is: Priya Bhandhavi Sukka\n",
      "PiaBadaiSka\n"
     ]
    }
   ],
   "source": [
    "First_name = input(\"Enter the first name: \")\n",
    "Last_name = input(\"Enter the last name: \")\n",
    "fullName = First_name + \" \" + Last_name\n",
    "\n",
    "def Full_name(fn,ln):\n",
    "    print(\"Full name is: \" + fn +\" \"+ ln)\n",
    "\n",
    "Full_name(First_name, Last_name)\n",
    "\n",
    "def string_alternative(str):\n",
    "    print(str[::2])\n",
    "\n",
    "string_alternative(fullName)"
   ]
  },
  {
   "cell_type": "code",
   "execution_count": 2,
   "id": "d5d4c921",
   "metadata": {},
   "outputs": [],
   "source": [
    "def wordcount():\n",
    "    input_file = open(\"Input.txt\", \"r\")\n",
    "    data = input_file.readlines()\n",
    "    output_file = open(\"Output.txt\", \"w\")\n",
    "    output_file.writelines(data)\n",
    "    output_file.write(\"\\n Word_Count : \")\n",
    "\n",
    "    dict = {}\n",
    "    for line in data:\n",
    "        word = line.strip().split(\" \")\n",
    "        for w in word:\n",
    "            s = \"\\n\" + w + \" \" + str(word.count(w))\n",
    "            output_file.write(s)\n",
    "\n",
    "wordcount()"
   ]
  },
  {
   "cell_type": "code",
   "execution_count": 3,
   "id": "d629feeb",
   "metadata": {},
   "outputs": [
    {
     "name": "stdout",
     "output_type": "stream",
     "text": [
      "List in Inches [150, 155, 145, 148]\n",
      "List in cm's [375.0, 387.5, 362.5, 370.0]\n"
     ]
    }
   ],
   "source": [
    "def convert():\n",
    "    inches = [150, 155, 145, 148]\n",
    "    cms = []\n",
    "    for item in inches:\n",
    "        cms.append(item * 2.5)\n",
    "    print(\"List in Inches\", inches)\n",
    "    print(\"List in cm's\", [item * 2.5 for item in inches])\n",
    "\n",
    "convert()"
   ]
  },
  {
   "cell_type": "code",
   "execution_count": null,
   "id": "2153718a",
   "metadata": {},
   "outputs": [],
   "source": []
  }
 ],
 "metadata": {
  "kernelspec": {
   "display_name": "Python 3 (ipykernel)",
   "language": "python",
   "name": "python3"
  },
  "language_info": {
   "codemirror_mode": {
    "name": "ipython",
    "version": 3
   },
   "file_extension": ".py",
   "mimetype": "text/x-python",
   "name": "python",
   "nbconvert_exporter": "python",
   "pygments_lexer": "ipython3",
   "version": "3.11.5"
  }
 },
 "nbformat": 4,
 "nbformat_minor": 5
}
